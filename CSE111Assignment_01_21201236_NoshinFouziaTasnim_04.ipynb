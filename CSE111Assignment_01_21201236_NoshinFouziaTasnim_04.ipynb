{
 "cells": [
  {
   "cell_type": "code",
   "execution_count": null,
   "id": "b1adeec8",
   "metadata": {},
   "outputs": [],
   "source": [
    "#Name: Noshin Fouzia Tasnim\n",
    "#Student ID:21201236\n",
    "#Section:04\n",
    "#Assignment 01"
   ]
  },
  {
   "cell_type": "code",
   "execution_count": 1,
   "id": "6702dd7c",
   "metadata": {},
   "outputs": [
    {
     "name": "stdout",
     "output_type": "stream",
     "text": [
      "Enter the string:HOusE\n",
      "HOUSE\n"
     ]
    }
   ],
   "source": [
    "#String\n",
    "#Task 01\n",
    "word= input(\"Enter the string:\")\n",
    "uppercase_count=0\n",
    "lowercase_count=0\n",
    "for i in range(len(word)):\n",
    "    if ord(word[i])>=65 and ord(word[i])<=90:\n",
    "        uppercase_count+=1\n",
    "    elif ord(word[i])>=97 and ord(word[i])<=122:\n",
    "        lowercase_count+=1\n",
    "\n",
    "if uppercase_count>lowercase_count:\n",
    "    print(word.upper())\n",
    "else:\n",
    "    print(word.lower())\n"
   ]
  },
  {
   "cell_type": "code",
   "execution_count": 5,
   "id": "4b5079aa",
   "metadata": {},
   "outputs": [
    {
     "name": "stdout",
     "output_type": "stream",
     "text": [
      "Enter the string:Hello\n",
      "WORD\n"
     ]
    }
   ],
   "source": [
    "#String\n",
    "#Task 02\n",
    "given_string= input(\"Enter the string:\")\n",
    "letters=0\n",
    "numbers=0\n",
    "for i in range(len(word)):\n",
    "    if ord(given_string[i])>=65 and ord(given_string[i])<=90:\n",
    "        letters+=1\n",
    "    elif ord(given_string[i])>=97 and ord(given_string[i])<=122:\n",
    "        letters+=1\n",
    "    elif ord(given_string[i])>=48 and ord(given_string[i])<=57:\n",
    "        numbers+=1\n",
    "if letters>0 and numbers>0:\n",
    "    print(\"MIXED\")\n",
    "elif letters>0 and numbers==0:\n",
    "    print(\"WORD\")\n",
    "elif letters==0 and numbers>0:\n",
    "    print(\"NUMBER\")"
   ]
  },
  {
   "cell_type": "code",
   "execution_count": 13,
   "id": "c58ac3e3",
   "metadata": {},
   "outputs": [
    {
     "name": "stdout",
     "output_type": "stream",
     "text": [
      "Enter your string:codIng\n",
      "BLANK\n"
     ]
    }
   ],
   "source": [
    "#String\n",
    "#Task 03\n",
    "\n",
    "given_string=input(\"Enter your string:\")\n",
    "cap1=0\n",
    "cap2=0\n",
    "\n",
    "for i in range(0,len(given_string)):\n",
    "    if ord(given_string[i])>=65 and ord(given_string[i])<=90:\n",
    "        cap1=i\n",
    "        break\n",
    "for i in range(0,len(given_string)):        \n",
    "    if ord(given_string[i])>=65 and ord(given_string[i])<=90:\n",
    "        cap2=i\n",
    "        \n",
    "output_substring=\"\"\n",
    "\n",
    "for i in given_string[cap1+1:cap2]:\n",
    "    output_substring+=i\n",
    "if len(output_substring)==0:\n",
    "    print(\"BLANK\")\n",
    "else:\n",
    "    print(output_substring)\n",
    "\n",
    "    "
   ]
  },
  {
   "cell_type": "code",
   "execution_count": 4,
   "id": "b136e8f6",
   "metadata": {},
   "outputs": [
    {
     "name": "stdout",
     "output_type": "stream",
     "text": [
      "Enter the string:The book is not too good!\n",
      "16\n",
      "The book is not excellent!\n"
     ]
    }
   ],
   "source": [
    "#String\n",
    "#Task 04\n",
    "given_string=input(\"Enter the string:\")\n",
    "output=\"\"\n",
    "if \"too good\" in given_string:\n",
    "    too_idx=given_string.find(\"too good\")\n",
    "print(too_idx)\n",
    "if too_idx==-1:\n",
    "    output= given_string\n",
    "else:\n",
    "    output=given_string[0:too_idx]+\"excellent\"+given_string[too_idx+8:]\n",
    "print(output)\n"
   ]
  },
  {
   "cell_type": "code",
   "execution_count": 22,
   "id": "cc51c0b0",
   "metadata": {},
   "outputs": [
    {
     "name": "stdout",
     "output_type": "stream",
     "text": [
      "Enter your first string:dean\n",
      "Enter your second string:tom\n",
      "Nothing in common.\n"
     ]
    }
   ],
   "source": [
    "#String\n",
    "#Task 05\n",
    "\n",
    "inp1=input(\"Enter your first string:\")\n",
    "inp2=input(\"Enter your second string:\")\n",
    "output=\"\"\n",
    "\n",
    "for ch in inp1:\n",
    "    if ch in inp2:\n",
    "        output+=ch\n",
    "for ch in inp2:\n",
    "    if ch in inp1:\n",
    "        output+=ch\n",
    "if len(output)==0:\n",
    "    print(\"Nothing in common.\")\n",
    "else:\n",
    "    print(output)"
   ]
  },
  {
   "cell_type": "code",
   "execution_count": 39,
   "id": "f3c49a25",
   "metadata": {},
   "outputs": [
    {
     "name": "stdout",
     "output_type": "stream",
     "text": [
      "Enter your password:OhMyBR@CU20\n",
      "OK\n"
     ]
    }
   ],
   "source": [
    "#String\n",
    "#Task 06\n",
    "password=input(\"Enter your password:\")\n",
    "output=\"\"\n",
    "digit=0\n",
    "special=0\n",
    "uppercase=0\n",
    "lowercase=0\n",
    "\n",
    "for i in range(len(password)):\n",
    "    if ord(password[i])>=65 and ord(password[i])<=90:\n",
    "        uppercase+=1\n",
    "    elif ord(password[i])>=97 and ord(password[i])<=122:\n",
    "        lowercase+=1\n",
    "    elif ord(password[i])>=48 and ord(password[i])<=57:\n",
    "        digit+=1\n",
    "for i in password:\n",
    "    if i in \"_$#@\":\n",
    "        special+=1\n",
    "        \n",
    "ok=True\n",
    "if uppercase==0:\n",
    "    output+=\"Uppercase character missing, \"\n",
    "    ok=False\n",
    "if lowercase==0:\n",
    "    output+=\"Lowercase character missing, \"\n",
    "    ok=False\n",
    "if digit==0:\n",
    "    output+=\"Digit missing, \"\n",
    "    ok=False \n",
    "if special==0:\n",
    "    output+=\"Special character missing, \"\n",
    "    ok=False\n",
    "if ok==True:\n",
    "    print(\"OK\")\n",
    "else:\n",
    "    print(output[:-2])"
   ]
  },
  {
   "cell_type": "code",
   "execution_count": 44,
   "id": "90608fc5",
   "metadata": {},
   "outputs": [
    {
     "name": "stdout",
     "output_type": "stream",
     "text": [
      "Enter the number:10\n",
      "Enter the number:20\n",
      "Enter the number:20\n",
      "Enter the number:30\n",
      "Enter the number:10\n",
      "Enter the number:50\n",
      "Enter the number:90\n",
      "Enter the number:STOP\n",
      "[10, 20, 30, 50, 90]\n",
      "[2, 2, 1, 1, 1]\n",
      "10 - 2 times\n",
      "20 - 2 times\n",
      "30 - 1 times\n",
      "50 - 1 times\n",
      "90 - 1 times\n"
     ]
    }
   ],
   "source": [
    "#List\n",
    "#Task 01\n",
    "inp_lst=[]\n",
    "while True:\n",
    "    inp=input(\"Enter the number:\")\n",
    "    if inp==\"STOP\":\n",
    "        break\n",
    "    else:\n",
    "        inp_lst.append(int(inp))\n",
    "unique_lst=[]\n",
    "frequency_lst=[]\n",
    "for i in inp_lst:\n",
    "    if i not in unique_lst:\n",
    "        unique_lst.append(i)\n",
    "        frequency_lst.append(1)\n",
    "    else:\n",
    "        idx=unique_lst.index(i)\n",
    "        frequency_lst[idx]+=1\n",
    "print(unique_lst)\n",
    "print(frequency_lst)\n",
    "for i in range(len(unique_lst)):\n",
    "    print(str(unique_lst[i]),\"-\",frequency_lst[i],\"times\")\n"
   ]
  },
  {
   "cell_type": "code",
   "execution_count": 9,
   "id": "4a62211b",
   "metadata": {},
   "outputs": [
    {
     "name": "stdout",
     "output_type": "stream",
     "text": [
      "Enter the number of lists:4\n",
      "Enter list of numbers separated by space:1 2 3\n",
      "Enter list of numbers separated by space:4 5 6\n",
      "Enter list of numbers separated by space:7 8 9\n",
      "Enter list of numbers separated by space:10 11 12\n",
      "33\n",
      "[10, 11, 12]\n"
     ]
    }
   ],
   "source": [
    "#List\n",
    "#Task 02\n",
    "list_no=int(input(\"Enter the number of lists:\"))\n",
    "whole_list=[]\n",
    "for i in range(list_no):\n",
    "    inp=input(\"Enter list of numbers separated by space:\").split(\" \")\n",
    "    x=[int(i) for i in inp]\n",
    "    whole_list.append(x)\n",
    "max_sum=0\n",
    "max_list=[]\n",
    "for i in whole_list[0]:\n",
    "    max_sum+=i\n",
    "for i in whole_list:\n",
    "    sum=0\n",
    "    for j in i:\n",
    "        sum+=j\n",
    "    if sum>max_sum:\n",
    "        max_sum=sum\n",
    "        max_list=i\n",
    "print(max_sum)\n",
    "print(max_list)"
   ]
  },
  {
   "cell_type": "code",
   "execution_count": 2,
   "id": "157b9bcf",
   "metadata": {},
   "outputs": [
    {
     "name": "stdout",
     "output_type": "stream",
     "text": [
      "Enter list of numbers separated by space:2 3 6\n",
      "Enter list of numbers separated by space:3 4 5\n",
      "[6, 8, 10, 9, 12, 15, 18, 24, 30]\n"
     ]
    }
   ],
   "source": [
    "# List\n",
    "#Task 03\n",
    "inp1=input(\"Enter list of numbers separated by space:\").split(\" \")\n",
    "inp2=input(\"Enter list of numbers separated by space:\").split(\" \")\n",
    "list1=[]\n",
    "list2=[]\n",
    "for i in inp1:\n",
    "    list1.append(int(i))\n",
    "for i in inp2:\n",
    "    list2.append(int(i))\n",
    "output_list=[]\n",
    "for i in list1:\n",
    "    for j in list2:\n",
    "        output_list.append(i*j)\n",
    "print(output_list)"
   ]
  },
  {
   "cell_type": "code",
   "execution_count": 41,
   "id": "b6c092a7",
   "metadata": {},
   "outputs": [
    {
     "name": "stdout",
     "output_type": "stream",
     "text": [
      "Enter the sequence:1 4 2 3\n",
      "Enter the sequence:2 1 4 6 10\n",
      "Enter the sequence:1 4 2 -1 6\n",
      "Enter the sequence:STOP\n",
      "[[3, 2, 1], [1, 3, 2, 4], [3, 2, 3, 7]]\n",
      "UB Jumper\n",
      "UB Jumper\n",
      "Not UB Jumper\n"
     ]
    }
   ],
   "source": [
    "#List\n",
    "#Task 04\n",
    "inp_lst=[]\n",
    "while True:\n",
    "    inp=input(\"Enter the sequence:\")\n",
    "    if inp!=\"STOP\":\n",
    "        inp=inp.split(\" \")\n",
    "        x=[int(i) for i in inp]\n",
    "        inp_lst.append(x)\n",
    "    else:\n",
    "        break\n",
    "lst=[]\n",
    "a=0\n",
    "for i in inp_lst:\n",
    "    diff_lst=[]\n",
    "    for j in range(len(i)-1):\n",
    "        diff_lst.append(abs(i[j]-i[j+1]))\n",
    "    lst.append(diff_lst)\n",
    "print(lst)\n",
    "for i in lst:\n",
    "    UB_Jumper=True\n",
    "    s=\"\"\n",
    "    for j in range(1,len(i)+1):\n",
    "        s+=str(j)\n",
    "    for y in range(len(i)):\n",
    "        if int(s[y])not in i:\n",
    "            UB_Jumper=False\n",
    "    if UB_Jumper==True:\n",
    "        print(\"UB Jumper\")\n",
    "    else:\n",
    "        print(\"Not UB Jumper\")"
   ]
  },
  {
   "cell_type": "code",
   "execution_count": 1,
   "id": "c7e728de",
   "metadata": {},
   "outputs": [
    {
     "name": "stdout",
     "output_type": "stream",
     "text": [
      "Enter the string:Bracu1234\n",
      "acruB1324\n"
     ]
    }
   ],
   "source": [
    "#List\n",
    "#Task 05\n",
    "inp=input(\"Enter the string:\")\n",
    "lowercase=[]\n",
    "uppercase=[]\n",
    "odd_digit=[]\n",
    "even_digit=[]\n",
    "digit=[]\n",
    "for i in inp:\n",
    "    if \"A\"<=i<=\"Z\":\n",
    "        uppercase.append(i)\n",
    "    elif \"a\"<=i<=\"z\":\n",
    "        lowercase.append(i)\n",
    "    elif \"0\"<=i<=\"9\":\n",
    "        digit.append(i)\n",
    "for i in digit:\n",
    "    if int(i)%2==0:\n",
    "        even_digit.append(i)\n",
    "    else:\n",
    "        odd_digit.append(i)    \n",
    "def f1(arg):\n",
    "    for i in range(len(arg)):\n",
    "        min_idx=i\n",
    "        for j in range(i+1,len(arg)):\n",
    "            if arg[j]<arg[i]:\n",
    "                min_idx=j\n",
    "                var= arg[i]\n",
    "                arg[i]=arg[j]\n",
    "                arg[j]=var\n",
    "    return arg    \n",
    "l=f1(lowercase)\n",
    "u=f1(uppercase)\n",
    "o=f1(odd_digit)\n",
    "e=f1(even_digit)\n",
    "\n",
    "combination=[l,u,o,e]\n",
    "output=\"\"\n",
    "for i in combination:\n",
    "    for j in i:\n",
    "        output+=str(j)\n",
    "print(output)\n"
   ]
  },
  {
   "cell_type": "code",
   "execution_count": 26,
   "id": "a05e3e86",
   "metadata": {},
   "outputs": [
    {
     "name": "stdout",
     "output_type": "stream",
     "text": [
      "Enter n followed by k: 6 5\n",
      "Enter the number of times of participation:0 0 0 0 0 0\n",
      "2\n"
     ]
    }
   ],
   "source": [
    "#List\n",
    "#Task 06\n",
    "n, k = [int(i) for i in input(\"Enter n followed by k: \").split()]\n",
    "par=[]\n",
    "inp2=input(\"Enter the number of times of participation:\").split(\" \")\n",
    "for i in inp2:\n",
    "    par.append(int(i))\n",
    "team=0\n",
    "for x in par:\n",
    "    if 5-x>=k:\n",
    "        team+=1\n",
    "print(team//3)"
   ]
  },
  {
   "cell_type": "code",
   "execution_count": 2,
   "id": "1ffd89a3",
   "metadata": {},
   "outputs": [
    {
     "name": "stdout",
     "output_type": "stream",
     "text": [
      "Enter the elements:a: 100, b: 100, c: 200, d: 300\n",
      "Enter the elements:a: 300, b: 200, d: 400, e: 200\n",
      "{'a': 400, ' b': 300, ' c': 200, ' d': 700, ' e': 200}\n",
      "Values: (200, 300, 400, 700)\n"
     ]
    }
   ],
   "source": [
    "#Dictionary and Tuple\n",
    "#Task 01\n",
    "s1=input(\"Enter the elements:\").split(\",\")\n",
    "s2=input(\"Enter the elements:\").split(\",\")\n",
    "dic1={}\n",
    "dic2={}\n",
    "for i in s1:\n",
    "    lst1=i.split(\":\")\n",
    "    dic1[lst1[0]]=int(lst1[1])\n",
    "for i in s2:\n",
    "    lst2=i.split(\":\")\n",
    "    dic2[lst2[0]]=int(lst2[1]) \n",
    "\n",
    "dic3= {}\n",
    "for key,value in dic1.items():\n",
    "    if key not in dic3:\n",
    "        dic3[key]=value\n",
    "for key,value in dic2.items():\n",
    "    if key not in dic3:\n",
    "        dic3[key]=value\n",
    "    else:\n",
    "        dic3[key]=dic3[key]+value\n",
    "print(dic3)\n",
    "res_lst=[]\n",
    "for i in dic3.values():\n",
    "    if i not in res_lst:\n",
    "        res_lst.append(i)\n",
    "def f1(arg):\n",
    "    for i in range(len(arg)):\n",
    "        min_idx=i\n",
    "        for j in range(i+1,len(arg)):\n",
    "            if arg[j]<arg[i]:\n",
    "                min_idx=j\n",
    "                var= arg[i]\n",
    "                arg[i]=arg[j]\n",
    "                arg[j]=var            \n",
    "    return arg\n",
    "res=f1(res_lst)\n",
    "result=tuple(res)\n",
    "print(\"Values:\",result)"
   ]
  },
  {
   "cell_type": "code",
   "execution_count": 5,
   "id": "7cb10b2a",
   "metadata": {},
   "outputs": [
    {
     "name": "stdout",
     "output_type": "stream",
     "text": [
      "Enter the number:10\n",
      "Enter the number:20\n",
      "Enter the number:20\n",
      "Enter the number:30\n",
      "Enter the number:10\n",
      "Enter the number:50\n",
      "Enter the number:90\n",
      "Enter the number:STOP\n",
      "10 - 2 times\n",
      "20 - 2 times\n",
      "30 - 1 times\n",
      "50 - 1 times\n",
      "90 - 1 times\n"
     ]
    }
   ],
   "source": [
    "#Dictionary and Tuple\n",
    "#Task 02\n",
    "\n",
    "inp_lst=[]\n",
    "while True:\n",
    "    inp=input(\"Enter the number:\")\n",
    "    if inp==\"STOP\":\n",
    "        break\n",
    "    else:\n",
    "        inp_lst.append(int(inp))\n",
    "dict1={}\n",
    "for i in inp_lst:\n",
    "    if i in dict1:\n",
    "        dict1[i]+=1\n",
    "    else:\n",
    "        dict1[i]=1\n",
    "for key,value in dict1.items():\n",
    "    print(key,\"-\",value,\"times\")\n"
   ]
  },
  {
   "cell_type": "code",
   "execution_count": 3,
   "id": "92395307",
   "metadata": {},
   "outputs": [
    {
     "name": "stdout",
     "output_type": "stream",
     "text": [
      "Enter the elements:key1 : value1, key2 : value2, key3 : value1\n",
      "{' value1': ['key1 ', ' key3 '], ' value2': [' key2 ']}\n"
     ]
    }
   ],
   "source": [
    "#Dictionary and Tuple\n",
    "#Task 03\n",
    "s1=input(\"Enter the elements:\").split(\",\")\n",
    "dic1={}\n",
    "for i in s1:\n",
    "    lst1=i.split(\":\")\n",
    "    dic1[lst1[0]]=lst1[1]\n",
    "\n",
    "dic2={}\n",
    "for key,value in dic1.items():\n",
    "    if value not in dic2:\n",
    "        dic2[value]=[]\n",
    "        dic2[value].append(key)\n",
    "    else:\n",
    "        dic2[value].append(key)\n",
    "print(dic2)\n",
    "        "
   ]
  },
  {
   "cell_type": "code",
   "execution_count": 1,
   "id": "30b2877a",
   "metadata": {},
   "outputs": [
    {
     "name": "stdout",
     "output_type": "stream",
     "text": [
      "Enter your first string:study\n",
      "Enter your second string:dusty\n",
      "Those strings are anagrams.\n"
     ]
    }
   ],
   "source": [
    "#Dictionary and Tuple\n",
    "#Task 04\n",
    "\n",
    "word1=input(\"Enter your first string:\")\n",
    "word2=input(\"Enter your second string:\")\n",
    "temp=True\n",
    "dict_word1={}\n",
    "dict_word2={}\n",
    "for i in word1:\n",
    "    dict_word1[i]=word1.count(i)\n",
    "for i in word2:\n",
    "    dict_word2[i]=word2.count(i)\n",
    "for i in dict_word1:\n",
    "    if i not in dict_word2:\n",
    "        temp=False\n",
    "    else:\n",
    "        if dict_word1[i]!=dict_word2[i]:\n",
    "            temp=False\n",
    "if temp==True:\n",
    "    print(\"Those strings are anagrams.\")\n",
    "else:\n",
    "    print(\"Those strings are not anagrams.\")"
   ]
  },
  {
   "cell_type": "code",
   "execution_count": 2,
   "id": "0b3ceb07",
   "metadata": {},
   "outputs": [
    {
     "name": "stdout",
     "output_type": "stream",
     "text": [
      "Enter the string:Hello, World!\n",
      "4433555555666110966677755531111\n"
     ]
    }
   ],
   "source": [
    "#Dictionary and Tuple\n",
    "#Task 05\n",
    "\n",
    "given_dict={1: ['.',',','?','!',':'],\n",
    "           2: ['A','B','C'],\n",
    "           3: ['D','E','F'],\n",
    "           4: ['G','H','I'],\n",
    "           5: ['J','K','L'],\n",
    "           6: ['M','N','O'],\n",
    "           7: ['P','Q','R','S'],\n",
    "           8: ['T','U','V'],\n",
    "           9: ['W','X','Y','Z'],\n",
    "           0: [\" \"]}\n",
    "message=input(\"Enter the string:\").upper()\n",
    "output=\"\"\n",
    "for i in message:\n",
    "    for j in given_dict:\n",
    "        if i in given_dict[j]:\n",
    "            output+=str(j)*(given_dict[j].index(i)+1)\n",
    "            \n",
    "print(output)"
   ]
  }
 ],
 "metadata": {
  "kernelspec": {
   "display_name": "Python 3",
   "language": "python",
   "name": "python3"
  },
  "language_info": {
   "codemirror_mode": {
    "name": "ipython",
    "version": 3
   },
   "file_extension": ".py",
   "mimetype": "text/x-python",
   "name": "python",
   "nbconvert_exporter": "python",
   "pygments_lexer": "ipython3",
   "version": "3.8.8"
  }
 },
 "nbformat": 4,
 "nbformat_minor": 5
}
