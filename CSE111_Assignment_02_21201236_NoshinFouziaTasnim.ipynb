{
 "cells": [
  {
   "cell_type": "code",
   "execution_count": null,
   "id": "265cc772",
   "metadata": {},
   "outputs": [],
   "source": [
    "#Name:Noshin Fouzia Tasnim\n",
    "#Student_ID:21201236\n",
    "#Section:04\n",
    "#CSE111 Assignment 02"
   ]
  },
  {
   "cell_type": "code",
   "execution_count": 1,
   "id": "99706113",
   "metadata": {},
   "outputs": [
    {
     "name": "stdout",
     "output_type": "stream",
     "text": [
      "0.5\n",
      "0.0\n",
      "0\n"
     ]
    }
   ],
   "source": [
    "#Task 1\n",
    "\n",
    "def fraction(dividend,divisor):\n",
    "    if divisor==0:\n",
    "        res=0\n",
    "    else:\n",
    "        quo1=dividend/divisor\n",
    "        quo2=dividend//divisor\n",
    "        res=quo1-quo2\n",
    "    return res\n",
    "            \n",
    "print(fraction(5,2))\n",
    "print(fraction(0,5))    \n",
    "print(fraction(5,0))"
   ]
  },
  {
   "cell_type": "code",
   "execution_count": 2,
   "id": "b9021ddf",
   "metadata": {},
   "outputs": [
    {
     "name": "stdout",
     "output_type": "stream",
     "text": [
      "Score is 31.3.You are Obese\n",
      "Score is 20.8.You are Normal\n"
     ]
    }
   ],
   "source": [
    "#Task 2\n",
    "\n",
    "def BMI(height,weight):\n",
    "    height=height/100\n",
    "    BMI=weight/(height**2)\n",
    "    comment=\"\"\n",
    "    if BMI<18.5:\n",
    "        comment=\"Underweight\"\n",
    "    elif BMI>=18.5 and BMI<=24.9:\n",
    "        comment=\"Normal\"\n",
    "    elif BMI>=25 and BMI<=30:\n",
    "        comment=\"Overweight\"\n",
    "    elif BMI>30:\n",
    "        comment=\"Obese\"\n",
    "        \n",
    "    print(\"Score is {:.1f}.You are {}\".format(BMI,comment))\n",
    "    \n",
    "BMI(175, 96)\n",
    "BMI(152, 48)     "
   ]
  },
  {
   "cell_type": "code",
   "execution_count": 3,
   "id": "b1bf8296",
   "metadata": {},
   "outputs": [
    {
     "name": "stdout",
     "output_type": "stream",
     "text": [
      "20\n",
      "45\n"
     ]
    }
   ],
   "source": [
    "#Task 3\n",
    "\n",
    "def summation(minimum,maximum,divisor):\n",
    "    sum=0\n",
    "    for x in range(minimum,int(maximum)):\n",
    "        if x%divisor==0:\n",
    "            sum+=x\n",
    "    return sum\n",
    "print(summation(0, 10, 2))\n",
    "print(summation(3, 16, 3))\n",
    "        "
   ]
  },
  {
   "cell_type": "code",
   "execution_count": 4,
   "id": "87423a48",
   "metadata": {},
   "outputs": [
    {
     "name": "stdout",
     "output_type": "stream",
     "text": [
      "243.6\n",
      "223.6\n"
     ]
    }
   ],
   "source": [
    "#Task 4\n",
    "\n",
    "def payment(burger_name,place=\"Mohakhali\"):\n",
    "    dic={\"BBQ Chicken Cheese Burger\":250, \"Beef Burger\":170,\"Naga Drums\":200}\n",
    "    meal_cost=0\n",
    "    tax=0\n",
    "    delivery_charge=40\n",
    "    total_price=0\n",
    "    for key,value in dic.items():\n",
    "        if burger_name in key:\n",
    "            meal_cost+=value\n",
    "    if place==\"Mohakhali\":\n",
    "        delivery_charge=40\n",
    "    else:\n",
    "        delivery_charge=60\n",
    "    tax=meal_cost*(8/100)    \n",
    "    total_price = meal_cost + delivery_charge + tax\n",
    "    return total_price\n",
    "print(payment(\"Beef Burger\",\"Dhanmondi\"))\n",
    "print(payment(\"Beef Burger\"))"
   ]
  },
  {
   "cell_type": "code",
   "execution_count": 3,
   "id": "1e130de7",
   "metadata": {},
   "outputs": [
    {
     "name": "stdout",
     "output_type": "stream",
     "text": [
      "Changed: alice@sheba.xyz\n",
      "Unchanged: bob@sheba.xyz\n"
     ]
    }
   ],
   "source": [
    "#Task 5\n",
    "\n",
    "def replace_domain(email_address,new_domain,old_domain=\"kaaj.com\"):\n",
    "    for i in range(len(email_address)):\n",
    "        if email_address[i]==\"@\":\n",
    "            start=i\n",
    "            domain=email_address[i+1::]\n",
    "            \n",
    "    if domain!=old_domain:\n",
    "        print(\"Unchanged:\",email_address)\n",
    "    else:\n",
    "        print(\"Changed:\",email_address[0:start]+\"@\"+new_domain)\n",
    "replace_domain(\"alice@kaaj.com\", \"sheba.xyz\", \"kaaj.com\") \n",
    "replace_domain(\"bob@sheba.xyz\", \"sheba.xyz\")"
   ]
  },
  {
   "cell_type": "code",
   "execution_count": 5,
   "id": "cead8520",
   "metadata": {},
   "outputs": [
    {
     "name": "stdout",
     "output_type": "stream",
     "text": [
      "Vowels: e, e, o. Total number of vowels: 3\n",
      "No vowels in the name\n"
     ]
    }
   ],
   "source": [
    "#Task 6\n",
    "\n",
    "def vowel_finder(name):\n",
    "    vowel=[]\n",
    "    count=0\n",
    "    v=\"\"\n",
    "    for i in name:\n",
    "        if i in \"AEIOUaeiou\":\n",
    "            count+=1\n",
    "            vowel.append(i)\n",
    "    for i in vowel:\n",
    "        v+=i+\", \"\n",
    "    if count!=0:\n",
    "        print(f\"Vowels: {v[0:-2]}. Total number of vowels: {count}\")\n",
    "    else:\n",
    "        print(\"No vowels in the name\")\n",
    "    \n",
    "vowel_finder(\"Steve Jobs\")\n",
    "vowel_finder(\"XYZ\")"
   ]
  },
  {
   "cell_type": "code",
   "execution_count": 6,
   "id": "08b89032",
   "metadata": {},
   "outputs": [
    {
     "name": "stdout",
     "output_type": "stream",
     "text": [
      "Palindrome\n",
      "Not a palindrome\n",
      "Palindrome\n"
     ]
    }
   ],
   "source": [
    "#Task 7\n",
    "\n",
    "def palindrome(given_string):\n",
    "    w1=\"\"\n",
    "    w2=\"\"\n",
    "    for i in given_string[0::1]:\n",
    "        if i!=\" \":\n",
    "            w1+=i\n",
    "    for i in given_string[-1::-1]:\n",
    "        if i!=\" \":\n",
    "            w2+=i\n",
    "    if w1==w2:\n",
    "        print(\"Palindrome\")\n",
    "    else:\n",
    "        print(\"Not a palindrome\")\n",
    "\n",
    "palindrome(\"madam\")\n",
    "palindrome(\"hello\")\n",
    "palindrome(\"nurses run\")\n"
   ]
  },
  {
   "cell_type": "code",
   "execution_count": 7,
   "id": "eee2b497",
   "metadata": {},
   "outputs": [
    {
     "name": "stdout",
     "output_type": "stream",
     "text": [
      "11 years, 10 months and 5 days\n",
      "10 years, 11 months and 20 days\n"
     ]
    }
   ],
   "source": [
    "#Task 8\n",
    "\n",
    "def day_checker(number_of_days):\n",
    "    years=number_of_days//365\n",
    "    rem_days=number_of_days%365\n",
    "    months=rem_days//30\n",
    "    days=rem_days%30\n",
    "    print(f\"{years} years, {months} months and {days} days\")\n",
    "    \n",
    "day_checker(4320)\n",
    "day_checker(4000)\n"
   ]
  },
  {
   "cell_type": "code",
   "execution_count": 5,
   "id": "42f7a8fc",
   "metadata": {},
   "outputs": [
    {
     "name": "stdout",
     "output_type": "stream",
     "text": [
      "My favourite animal is a dog. A dog has sharp teeth so that it can eat flesh very easily. Do you know my pet dog’s name? I love my pet very much.\n"
     ]
    }
   ],
   "source": [
    "#Task 9\n",
    "\n",
    "def capitalization(paragraph):\n",
    "    lst=[]\n",
    "    for i in paragraph:\n",
    "        lst.append(i)\n",
    "    lst[0]=chr((ord(lst[0])-32))\n",
    "    for i in range(len(lst)-1):\n",
    "        if lst[i] in \".!?\":\n",
    "            lst[i+2]=chr((ord(lst[i+2])-32))\n",
    "        if lst[i]==\" \" and lst[i+1]==\"i\" and lst[i+2]==\" \":\n",
    "            lst[i+1]=chr((ord(lst[i+1])-32))\n",
    "    output=\"\"\n",
    "    for i in lst:\n",
    "        output+=i\n",
    "    return output\n",
    "print(capitalization(\"my favourite animal is a dog. a dog has sharp teeth so that it can eat flesh very easily. do you know my pet dog’s name? i love my pet very much.\"))"
   ]
  },
  {
   "cell_type": "code",
   "execution_count": null,
   "id": "99577c8c",
   "metadata": {},
   "outputs": [],
   "source": []
  }
 ],
 "metadata": {
  "kernelspec": {
   "display_name": "Python 3",
   "language": "python",
   "name": "python3"
  },
  "language_info": {
   "codemirror_mode": {
    "name": "ipython",
    "version": 3
   },
   "file_extension": ".py",
   "mimetype": "text/x-python",
   "name": "python",
   "nbconvert_exporter": "python",
   "pygments_lexer": "ipython3",
   "version": "3.8.8"
  }
 },
 "nbformat": 4,
 "nbformat_minor": 5
}
